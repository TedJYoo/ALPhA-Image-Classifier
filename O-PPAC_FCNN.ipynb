{
 "cells": [
  {
   "cell_type": "code",
   "execution_count": 1,
   "metadata": {},
   "outputs": [
    {
     "name": "stdout",
     "output_type": "stream",
     "text": [
      "2.1.0\n"
     ]
    }
   ],
   "source": [
    "#This program fits the O-PPAC data onto a FCNN model\n",
    "import tensorflow as tf\n",
    "from tensorflow.keras import datasets, layers, models, metrics, Model\n",
    "from tensorflow.keras.callbacks import Callback\n",
    "from sklearn.model_selection import train_test_split\n",
    "from sklearn.metrics import classification_report\n",
    "from sklearn.preprocessing import normalize\n",
    "import tensorflow_docs as tfdocs\n",
    "import tensorflow_docs.plots\n",
    "import tensorflow_docs.modeling\n",
    "import numpy as np\n",
    "import matplotlib.pyplot as plt\n",
    "import h5py\n",
    "import datetime\n",
    "%load_ext tensorboard\n",
    "print(tf.__version__)"
   ]
  },
  {
   "cell_type": "code",
   "execution_count": 2,
   "metadata": {},
   "outputs": [],
   "source": [
    "dataset = h5py.File('simu_HDF_new.h5', 'r')\n",
    "num_diodes = dataset['Num_diodes'][...]\n",
    "x_pos = (dataset['Xpos'][...])/100\n",
    "y_pos = dataset['Ypos'][...]\n",
    "histgrid = dataset['histgrid'][...]\n",
    "dataset.close()"
   ]
  },
  {
   "cell_type": "code",
   "execution_count": 3,
   "metadata": {},
   "outputs": [
    {
     "data": {
      "text/plain": [
       "(9, 132, 1011)"
      ]
     },
     "execution_count": 3,
     "metadata": {},
     "output_type": "execute_result"
    }
   ],
   "source": [
    "histgrid.shape"
   ]
  },
  {
   "cell_type": "code",
   "execution_count": 4,
   "metadata": {},
   "outputs": [
    {
     "data": {
      "text/plain": [
       "array([0., 0., 0., 0., 0., 0., 0., 0., 0., 0., 0., 0., 0., 0., 0., 0., 0.,\n",
       "       0., 0., 0., 0., 0., 0., 0., 0., 0., 0., 0., 0., 0., 0., 0., 0., 0.,\n",
       "       0., 0., 0., 0., 0., 0., 0., 0., 0., 0., 0., 0., 0., 0., 0., 0., 0.,\n",
       "       0., 0., 0., 0., 0., 0., 0., 0., 0., 0., 0., 0., 0., 0., 0., 0., 0.,\n",
       "       0., 0., 0., 0., 0., 0., 0., 0., 0., 0., 0., 0., 0., 0., 0., 0., 0.,\n",
       "       0., 0., 0., 0., 0., 0., 0., 0., 0., 0., 0., 0., 0., 0., 0., 0., 0.,\n",
       "       0., 0., 0., 0., 0., 0., 0., 0., 0., 0., 0., 0., 0., 0., 0., 0., 0.,\n",
       "       0., 0., 0., 0., 0., 0., 0., 0., 0., 0., 0., 0., 0.])"
      ]
     },
     "execution_count": 4,
     "metadata": {},
     "output_type": "execute_result"
    }
   ],
   "source": [
    "histgrid[0,0:132,0]"
   ]
  },
  {
   "cell_type": "code",
   "execution_count": 5,
   "metadata": {},
   "outputs": [
    {
     "name": "stdout",
     "output_type": "stream",
     "text": [
      "[0, 1, 2, 3, 4, 5, 6, 7, 8, 9] [0, 1, 2, 3, 4, 5, 6, 7, 8, 9]\n",
      "[0, 1, 2, 3, 4, 5, 6, 7, 8, 9] [0, 1, 2, 3, 4, 5, 6, 7, 8, 9]\n"
     ]
    }
   ],
   "source": [
    "#Testing lists vs arrays\n",
    "all_data = []\n",
    "all_labels = []\n",
    "for i in range(10):\n",
    "    all_data.append(i)\n",
    "    all_labels.append(i)\n",
    "print(all_data,all_labels)\n",
    "np.array(all_data)\n",
    "np.array(all_labels)\n",
    "print(all_data,all_labels)"
   ]
  },
  {
   "cell_type": "code",
   "execution_count": 6,
   "metadata": {},
   "outputs": [
    {
     "data": {
      "text/plain": [
       "array([-16., -24., -32.,  -8.,   0.,  16.,  24.,  32.,   8.])"
      ]
     },
     "execution_count": 6,
     "metadata": {},
     "output_type": "execute_result"
    }
   ],
   "source": [
    "x_pos"
   ]
  },
  {
   "cell_type": "code",
   "execution_count": 7,
   "metadata": {},
   "outputs": [],
   "source": [
    "\n",
    "def data_compile(histdata):\n",
    "    data = []\n",
    "    labels = []\n",
    "    for i in range(histdata.shape[0]):\n",
    "        for j in range(1,histdata.shape[2]):\n",
    "            data.append(histdata[i,0:132,j])\n",
    "            labels.append(x_pos[i])\n",
    "    return(np.array(data),np.array(labels))\n",
    "\n",
    "all_data, all_labels = data_compile(histgrid)\n",
    "all_data.reshape(-1,1)\n",
    "all_data = normalize(all_data,axis = 1)\n",
    "train_data, test_data, train_labels, test_labels = train_test_split(all_data, all_labels, test_size=0.2,shuffle=True)"
   ]
  },
  {
   "cell_type": "code",
   "execution_count": 8,
   "metadata": {},
   "outputs": [
    {
     "data": {
      "text/plain": [
       "2"
      ]
     },
     "execution_count": 8,
     "metadata": {},
     "output_type": "execute_result"
    }
   ],
   "source": [
    "train_data.ndim"
   ]
  },
  {
   "cell_type": "code",
   "execution_count": 9,
   "metadata": {},
   "outputs": [
    {
     "data": {
      "text/plain": [
       "(7272, 132)"
      ]
     },
     "execution_count": 9,
     "metadata": {},
     "output_type": "execute_result"
    }
   ],
   "source": [
    "train_data.shape"
   ]
  },
  {
   "cell_type": "code",
   "execution_count": 10,
   "metadata": {},
   "outputs": [
    {
     "data": {
      "text/plain": [
       "array([0.        , 0.        , 0.        , 0.0035652 , 0.        ,\n",
       "       0.01069561, 0.0035652 , 0.00713041, 0.0035652 , 0.15330377,\n",
       "       0.27808591, 0.3565204 , 0.18895581, 0.04278245, 0.0035652 ,\n",
       "       0.0035652 , 0.        , 0.0035652 , 0.        , 0.        ,\n",
       "       0.        , 0.00713041, 0.0035652 , 0.        , 0.        ,\n",
       "       0.        , 0.        , 0.0035652 , 0.        , 0.0035652 ,\n",
       "       0.        , 0.        , 0.        , 0.        , 0.        ,\n",
       "       0.        , 0.0035652 , 0.        , 0.        , 0.        ,\n",
       "       0.        , 0.01426082, 0.12834734, 0.22460785, 0.32086836,\n",
       "       0.22460785, 0.05704326, 0.00713041, 0.0035652 , 0.        ,\n",
       "       0.        , 0.        , 0.        , 0.        , 0.        ,\n",
       "       0.        , 0.        , 0.        , 0.        , 0.0035652 ,\n",
       "       0.        , 0.        , 0.        , 0.0035652 , 0.        ,\n",
       "       0.        , 0.        , 0.        , 0.        , 0.        ,\n",
       "       0.        , 0.00713041, 0.        , 0.0035652 , 0.        ,\n",
       "       0.        , 0.        , 0.00713041, 0.00713041, 0.03565204,\n",
       "       0.13191255, 0.19252102, 0.27452071, 0.21391224, 0.09626051,\n",
       "       0.01426082, 0.        , 0.        , 0.00713041, 0.0035652 ,\n",
       "       0.0035652 , 0.        , 0.        , 0.0035652 , 0.        ,\n",
       "       0.        , 0.        , 0.        , 0.        , 0.        ,\n",
       "       0.        , 0.        , 0.        , 0.0035652 , 0.        ,\n",
       "       0.        , 0.0035652 , 0.        , 0.        , 0.        ,\n",
       "       0.        , 0.0035652 , 0.00713041, 0.0035652 , 0.24243387,\n",
       "       0.39930285, 0.32443356, 0.01069561, 0.        , 0.        ,\n",
       "       0.        , 0.        , 0.0035652 , 0.        , 0.        ,\n",
       "       0.        , 0.0035652 , 0.        , 0.        , 0.        ,\n",
       "       0.        , 0.0035652 ])"
      ]
     },
     "execution_count": 10,
     "metadata": {},
     "output_type": "execute_result"
    }
   ],
   "source": [
    "train_data[0]"
   ]
  },
  {
   "cell_type": "code",
   "execution_count": null,
   "metadata": {},
   "outputs": [],
   "source": [
    "#Clear previous runs\n",
    "!rm -rf ./logs/ "
   ]
  },
  {
   "cell_type": "code",
   "execution_count": null,
   "metadata": {},
   "outputs": [],
   "source": []
  },
  {
   "cell_type": "code",
   "execution_count": 11,
   "metadata": {},
   "outputs": [],
   "source": [
    "log_dir = \"logs/fit/\" + \"O-PPAC_FCNN\" + \"RMSprop0.001,mse,no_dropout,1dense128,relu\"\n",
    "tensorboard_callback = tf.keras.callbacks.TensorBoard(log_dir=log_dir, histogram_freq=1, profile_batch = 0)"
   ]
  },
  {
   "cell_type": "code",
   "execution_count": 12,
   "metadata": {},
   "outputs": [],
   "source": [
    "callback = tf.keras.callbacks.EarlyStopping(monitor='val_loss', patience=10)"
   ]
  },
  {
   "cell_type": "code",
   "execution_count": 13,
   "metadata": {},
   "outputs": [],
   "source": [
    "FCNN_model = tf.keras.Sequential()\n",
    "FCNN_model.add(layers.Dense(256, activation='relu', input_shape = [132]))\n",
    "FCNN_model.add(layers.Dense(256, activation = 'relu'))\n",
    "FCNN_model.add(layers.Dropout(0.5))\n",
    "FCNN_model.add(layers.Dense(1, activation = 'linear'))"
   ]
  },
  {
   "cell_type": "code",
   "execution_count": 14,
   "metadata": {},
   "outputs": [],
   "source": [
    "FCNN_model.compile(optimizer = tf.keras.optimizers.RMSprop(learning_rate=0.001), \n",
    "              loss = 'mse', \n",
    "              metrics=['mae', 'mse'])"
   ]
  },
  {
   "cell_type": "code",
   "execution_count": 15,
   "metadata": {},
   "outputs": [
    {
     "name": "stdout",
     "output_type": "stream",
     "text": [
      "Train on 5090 samples, validate on 2182 samples\n",
      "Epoch 1/100\n",
      "5090/5090 [==============================] - 1s 249us/sample - loss: 62.5742 - mae: 4.5557 - mse: 62.5742 - val_loss: 1.7156 - val_mae: 1.1268 - val_mse: 1.7156\n",
      "Epoch 2/100\n",
      "5090/5090 [==============================] - 1s 131us/sample - loss: 5.1900 - mae: 1.7173 - mse: 5.1900 - val_loss: 1.6113 - val_mae: 1.0402 - val_mse: 1.6113\n",
      "Epoch 3/100\n",
      "5090/5090 [==============================] - 1s 123us/sample - loss: 5.0064 - mae: 1.6344 - mse: 5.0064 - val_loss: 3.7780 - val_mae: 1.5612 - val_mse: 3.7780\n",
      "Epoch 4/100\n",
      "5090/5090 [==============================] - 1s 115us/sample - loss: 4.7733 - mae: 1.5916 - mse: 4.7733 - val_loss: 1.4804 - val_mae: 1.0159 - val_mse: 1.4804\n",
      "Epoch 5/100\n",
      "5090/5090 [==============================] - 1s 115us/sample - loss: 4.7334 - mae: 1.5670 - mse: 4.7334 - val_loss: 1.2254 - val_mae: 0.8612 - val_mse: 1.2254\n",
      "Epoch 6/100\n",
      "5090/5090 [==============================] - 1s 118us/sample - loss: 4.8009 - mae: 1.5633 - mse: 4.8009 - val_loss: 0.9564 - val_mae: 0.8288 - val_mse: 0.9564\n",
      "Epoch 7/100\n",
      "5090/5090 [==============================] - 1s 119us/sample - loss: 4.6731 - mae: 1.5349 - mse: 4.6731 - val_loss: 0.2464 - val_mae: 0.3806 - val_mse: 0.2464\n",
      "Epoch 8/100\n",
      "5090/5090 [==============================] - 1s 116us/sample - loss: 4.5387 - mae: 1.5097 - mse: 4.5387 - val_loss: 2.2913 - val_mae: 1.3391 - val_mse: 2.2913\n",
      "Epoch 9/100\n",
      "5090/5090 [==============================] - 1s 118us/sample - loss: 4.3885 - mae: 1.4894 - mse: 4.3885 - val_loss: 1.8871 - val_mae: 0.9730 - val_mse: 1.8871\n",
      "Epoch 10/100\n",
      "5090/5090 [==============================] - 1s 113us/sample - loss: 4.5916 - mae: 1.5094 - mse: 4.5916 - val_loss: 1.1574 - val_mae: 0.8881 - val_mse: 1.1574\n",
      "Epoch 11/100\n",
      "5090/5090 [==============================] - 1s 112us/sample - loss: 4.6535 - mae: 1.5165 - mse: 4.6535 - val_loss: 0.1655 - val_mae: 0.3136 - val_mse: 0.1655\n",
      "Epoch 12/100\n",
      "5090/5090 [==============================] - 1s 116us/sample - loss: 4.7546 - mae: 1.5133 - mse: 4.7546 - val_loss: 1.2773 - val_mae: 0.8221 - val_mse: 1.2773\n",
      "Epoch 13/100\n",
      "5090/5090 [==============================] - 1s 115us/sample - loss: 4.5557 - mae: 1.4669 - mse: 4.5557 - val_loss: 2.0516 - val_mae: 1.0223 - val_mse: 2.0516\n",
      "Epoch 14/100\n",
      "5090/5090 [==============================] - 1s 118us/sample - loss: 4.3549 - mae: 1.4506 - mse: 4.3549 - val_loss: 1.1618 - val_mae: 0.8778 - val_mse: 1.1618\n",
      "Epoch 15/100\n",
      "5090/5090 [==============================] - 1s 120us/sample - loss: 4.3194 - mae: 1.4507 - mse: 4.3194 - val_loss: 0.3379 - val_mae: 0.4334 - val_mse: 0.3379\n",
      "Epoch 16/100\n",
      "5090/5090 [==============================] - 1s 117us/sample - loss: 4.5612 - mae: 1.4842 - mse: 4.5612 - val_loss: 3.3936 - val_mae: 1.5273 - val_mse: 3.3936\n",
      "Epoch 17/100\n",
      "5090/5090 [==============================] - 1s 115us/sample - loss: 4.5661 - mae: 1.4802 - mse: 4.5661 - val_loss: 0.3686 - val_mae: 0.4855 - val_mse: 0.3686\n",
      "Epoch 18/100\n",
      "5090/5090 [==============================] - 1s 124us/sample - loss: 4.3939 - mae: 1.4602 - mse: 4.3939 - val_loss: 2.9632 - val_mae: 1.3455 - val_mse: 2.9632\n",
      "Epoch 19/100\n",
      "5090/5090 [==============================] - 1s 118us/sample - loss: 4.4689 - mae: 1.4653 - mse: 4.4689 - val_loss: 0.9714 - val_mae: 0.8366 - val_mse: 0.9714\n",
      "Epoch 20/100\n",
      "5090/5090 [==============================] - 1s 114us/sample - loss: 4.5520 - mae: 1.4661 - mse: 4.5520 - val_loss: 1.7362 - val_mae: 1.1187 - val_mse: 1.7362\n",
      "Epoch 21/100\n",
      "5090/5090 [==============================] - 1s 115us/sample - loss: 4.5993 - mae: 1.4873 - mse: 4.5993 - val_loss: 2.9277 - val_mae: 1.4223 - val_mse: 2.9277\n",
      "Epoch 22/100\n",
      "5090/5090 [==============================] - 1s 112us/sample - loss: 4.6379 - mae: 1.4830 - mse: 4.6379 - val_loss: 0.5878 - val_mae: 0.5951 - val_mse: 0.5878\n",
      "Epoch 23/100\n",
      "5090/5090 [==============================] - 1s 114us/sample - loss: 4.5201 - mae: 1.4813 - mse: 4.5201 - val_loss: 0.8683 - val_mae: 0.7603 - val_mse: 0.8683\n",
      "Epoch 24/100\n",
      "5090/5090 [==============================] - 1s 117us/sample - loss: 4.5654 - mae: 1.4658 - mse: 4.5654 - val_loss: 1.1038 - val_mae: 0.8284 - val_mse: 1.1038\n",
      "Epoch 25/100\n",
      "5090/5090 [==============================] - 1s 113us/sample - loss: 4.5078 - mae: 1.4462 - mse: 4.5078 - val_loss: 0.3030 - val_mae: 0.3898 - val_mse: 0.3030\n",
      "Epoch 26/100\n",
      "5090/5090 [==============================] - 1s 112us/sample - loss: 4.7112 - mae: 1.4874 - mse: 4.7112 - val_loss: 1.2520 - val_mae: 0.9311 - val_mse: 1.2520\n",
      "Epoch 27/100\n",
      "5090/5090 [==============================] - 1s 113us/sample - loss: 4.7311 - mae: 1.4871 - mse: 4.7311 - val_loss: 0.1655 - val_mae: 0.2973 - val_mse: 0.1655\n",
      "Epoch 28/100\n",
      "5090/5090 [==============================] - 1s 114us/sample - loss: 4.4302 - mae: 1.4478 - mse: 4.4302 - val_loss: 0.6541 - val_mae: 0.6500 - val_mse: 0.6541\n",
      "Epoch 29/100\n",
      "5090/5090 [==============================] - 1s 121us/sample - loss: 4.5324 - mae: 1.4873 - mse: 4.5324 - val_loss: 0.7725 - val_mae: 0.6969 - val_mse: 0.7725\n",
      "Epoch 30/100\n",
      "5090/5090 [==============================] - 1s 115us/sample - loss: 4.4578 - mae: 1.4522 - mse: 4.4578 - val_loss: 0.7766 - val_mae: 0.6749 - val_mse: 0.7766\n",
      "Epoch 31/100\n",
      "5090/5090 [==============================] - 1s 113us/sample - loss: 4.3791 - mae: 1.4457 - mse: 4.3791 - val_loss: 0.5361 - val_mae: 0.5808 - val_mse: 0.5361\n",
      "Epoch 32/100\n",
      "5090/5090 [==============================] - 1s 121us/sample - loss: 4.5801 - mae: 1.4761 - mse: 4.5801 - val_loss: 2.2813 - val_mae: 1.1022 - val_mse: 2.2813\n",
      "Epoch 33/100\n",
      "5090/5090 [==============================] - 1s 125us/sample - loss: 4.4915 - mae: 1.4705 - mse: 4.4915 - val_loss: 0.9919 - val_mae: 0.7680 - val_mse: 0.9919\n",
      "Epoch 34/100\n",
      "5090/5090 [==============================] - 1s 122us/sample - loss: 4.5443 - mae: 1.4617 - mse: 4.5443 - val_loss: 0.1709 - val_mae: 0.3136 - val_mse: 0.1709\n",
      "Epoch 35/100\n",
      "5090/5090 [==============================] - 1s 118us/sample - loss: 4.3907 - mae: 1.4439 - mse: 4.3907 - val_loss: 1.2250 - val_mae: 0.8765 - val_mse: 1.2250\n",
      "Epoch 36/100\n",
      "5090/5090 [==============================] - 1s 116us/sample - loss: 4.4514 - mae: 1.4641 - mse: 4.4514 - val_loss: 2.9813 - val_mae: 1.3228 - val_mse: 2.9813\n",
      "Epoch 37/100\n",
      "5090/5090 [==============================] - 1s 115us/sample - loss: 4.3838 - mae: 1.4540 - mse: 4.3838 - val_loss: 0.3350 - val_mae: 0.4234 - val_mse: 0.3350\n",
      "Epoch 38/100\n",
      "5090/5090 [==============================] - 1s 112us/sample - loss: 4.6986 - mae: 1.4806 - mse: 4.6986 - val_loss: 0.4232 - val_mae: 0.4989 - val_mse: 0.4232\n",
      "Epoch 39/100\n",
      "5090/5090 [==============================] - 1s 114us/sample - loss: 4.3968 - mae: 1.4527 - mse: 4.3968 - val_loss: 1.8454 - val_mae: 1.1308 - val_mse: 1.8454\n",
      "Epoch 40/100\n",
      "5090/5090 [==============================] - 1s 114us/sample - loss: 4.6696 - mae: 1.4946 - mse: 4.6696 - val_loss: 0.6532 - val_mae: 0.6078 - val_mse: 0.6532\n",
      "Epoch 41/100\n",
      "5090/5090 [==============================] - ETA: 0s - loss: 4.6481 - mae: 1.4693 - mse: 4.648 - 1s 111us/sample - loss: 4.5995 - mae: 1.4631 - mse: 4.5995 - val_loss: 0.2925 - val_mae: 0.4132 - val_mse: 0.2925\n",
      "Epoch 42/100\n",
      "5090/5090 [==============================] - 1s 109us/sample - loss: 4.2760 - mae: 1.4361 - mse: 4.2760 - val_loss: 0.9840 - val_mae: 0.7568 - val_mse: 0.9840\n",
      "Epoch 43/100\n",
      "5090/5090 [==============================] - 1s 110us/sample - loss: 4.5637 - mae: 1.4795 - mse: 4.5637 - val_loss: 0.8500 - val_mae: 0.7083 - val_mse: 0.8500\n",
      "Epoch 44/100\n",
      "5090/5090 [==============================] - 1s 109us/sample - loss: 4.5336 - mae: 1.4685 - mse: 4.5336 - val_loss: 0.8287 - val_mae: 0.7676 - val_mse: 0.8287\n",
      "Epoch 45/100\n",
      "5090/5090 [==============================] - 1s 109us/sample - loss: 4.4907 - mae: 1.4530 - mse: 4.4907 - val_loss: 0.3752 - val_mae: 0.4437 - val_mse: 0.3752\n",
      "Epoch 46/100\n",
      "5090/5090 [==============================] - 1s 109us/sample - loss: 4.5353 - mae: 1.4674 - mse: 4.5353 - val_loss: 0.2012 - val_mae: 0.3506 - val_mse: 0.2012\n",
      "Epoch 47/100\n",
      "5090/5090 [==============================] - 1s 110us/sample - loss: 4.4201 - mae: 1.4538 - mse: 4.4201 - val_loss: 1.2212 - val_mae: 0.8820 - val_mse: 1.2212\n",
      "Epoch 48/100\n",
      "5090/5090 [==============================] - 1s 108us/sample - loss: 4.5177 - mae: 1.4664 - mse: 4.5177 - val_loss: 0.9675 - val_mae: 0.7035 - val_mse: 0.9675\n",
      "Epoch 49/100\n",
      "5090/5090 [==============================] - 1s 119us/sample - loss: 4.5229 - mae: 1.4683 - mse: 4.5229 - val_loss: 0.8233 - val_mae: 0.7588 - val_mse: 0.8233\n",
      "Epoch 50/100\n",
      "5090/5090 [==============================] - 1s 122us/sample - loss: 4.3255 - mae: 1.4401 - mse: 4.3255 - val_loss: 0.4241 - val_mae: 0.4995 - val_mse: 0.4241\n",
      "Epoch 51/100\n",
      "5090/5090 [==============================] - 1s 117us/sample - loss: 4.5422 - mae: 1.4622 - mse: 4.5422 - val_loss: 3.4396 - val_mae: 1.4130 - val_mse: 3.4396\n",
      "Epoch 52/100\n",
      "5090/5090 [==============================] - 1s 113us/sample - loss: 4.5025 - mae: 1.4555 - mse: 4.5025 - val_loss: 0.2130 - val_mae: 0.3359 - val_mse: 0.2130\n",
      "Epoch 53/100\n",
      "5090/5090 [==============================] - 1s 116us/sample - loss: 4.5391 - mae: 1.4576 - mse: 4.5391 - val_loss: 0.3934 - val_mae: 0.4859 - val_mse: 0.3934\n",
      "Epoch 54/100\n",
      "5090/5090 [==============================] - 1s 116us/sample - loss: 4.4671 - mae: 1.4611 - mse: 4.4671 - val_loss: 0.6153 - val_mae: 0.5922 - val_mse: 0.6153\n",
      "Epoch 55/100\n",
      "5090/5090 [==============================] - 1s 116us/sample - loss: 4.4083 - mae: 1.4565 - mse: 4.4083 - val_loss: 0.6021 - val_mae: 0.5591 - val_mse: 0.6021\n",
      "Epoch 56/100\n",
      "5090/5090 [==============================] - 1s 116us/sample - loss: 4.3181 - mae: 1.4467 - mse: 4.3181 - val_loss: 0.6017 - val_mae: 0.6002 - val_mse: 0.6017\n",
      "Epoch 57/100\n",
      "5090/5090 [==============================] - 1s 111us/sample - loss: 4.5573 - mae: 1.4603 - mse: 4.5573 - val_loss: 1.2680 - val_mae: 0.9365 - val_mse: 1.2680\n",
      "Epoch 58/100\n",
      "5090/5090 [==============================] - 1s 104us/sample - loss: 4.5574 - mae: 1.4747 - mse: 4.5574 - val_loss: 2.9214 - val_mae: 1.1161 - val_mse: 2.9214\n",
      "Epoch 59/100\n",
      "5090/5090 [==============================] - 1s 108us/sample - loss: 4.4395 - mae: 1.4686 - mse: 4.4395 - val_loss: 0.3801 - val_mae: 0.4668 - val_mse: 0.3801\n",
      "Epoch 60/100\n",
      "5090/5090 [==============================] - 1s 110us/sample - loss: 4.2935 - mae: 1.4332 - mse: 4.2935 - val_loss: 3.4480 - val_mae: 1.4141 - val_mse: 3.4480\n",
      "Epoch 61/100\n",
      "5090/5090 [==============================] - 1s 115us/sample - loss: 4.5944 - mae: 1.4762 - mse: 4.5944 - val_loss: 0.7363 - val_mae: 0.5888 - val_mse: 0.7363\n",
      "Epoch 62/100\n",
      "5090/5090 [==============================] - 1s 112us/sample - loss: 4.4027 - mae: 1.4526 - mse: 4.4027 - val_loss: 1.8963 - val_mae: 1.0950 - val_mse: 1.8963\n",
      "Epoch 63/100\n",
      "5090/5090 [==============================] - 1s 111us/sample - loss: 4.4693 - mae: 1.4556 - mse: 4.4693 - val_loss: 0.6555 - val_mae: 0.5918 - val_mse: 0.6555\n",
      "Epoch 64/100\n",
      "5090/5090 [==============================] - 1s 109us/sample - loss: 4.2818 - mae: 1.4290 - mse: 4.2818 - val_loss: 0.4288 - val_mae: 0.4820 - val_mse: 0.4288\n",
      "Epoch 65/100\n",
      "5090/5090 [==============================] - 1s 108us/sample - loss: 4.5325 - mae: 1.4607 - mse: 4.5325 - val_loss: 0.6060 - val_mae: 0.5409 - val_mse: 0.6060\n",
      "Epoch 66/100\n",
      "5090/5090 [==============================] - 1s 112us/sample - loss: 4.4384 - mae: 1.4405 - mse: 4.4384 - val_loss: 1.5109 - val_mae: 1.0006 - val_mse: 1.5109\n",
      "Epoch 67/100\n",
      "5090/5090 [==============================] - 1s 115us/sample - loss: 4.4127 - mae: 1.4512 - mse: 4.4127 - val_loss: 1.2234 - val_mae: 0.9464 - val_mse: 1.2234\n",
      "Epoch 68/100\n",
      "5090/5090 [==============================] - 1s 110us/sample - loss: 4.3132 - mae: 1.4320 - mse: 4.3132 - val_loss: 1.2526 - val_mae: 0.8870 - val_mse: 1.2526\n",
      "Epoch 69/100\n",
      "5090/5090 [==============================] - 1s 112us/sample - loss: 4.3843 - mae: 1.4625 - mse: 4.3843 - val_loss: 1.3347 - val_mae: 0.9376 - val_mse: 1.3347\n",
      "Epoch 70/100\n",
      "5090/5090 [==============================] - 1s 112us/sample - loss: 4.3912 - mae: 1.4402 - mse: 4.3912 - val_loss: 2.2988 - val_mae: 1.0515 - val_mse: 2.2988\n",
      "Epoch 71/100\n",
      "5090/5090 [==============================] - 1s 111us/sample - loss: 4.4404 - mae: 1.4481 - mse: 4.4404 - val_loss: 0.5356 - val_mae: 0.5881 - val_mse: 0.5356\n",
      "Epoch 72/100\n",
      "5090/5090 [==============================] - 1s 107us/sample - loss: 4.2917 - mae: 1.4327 - mse: 4.2917 - val_loss: 0.4320 - val_mae: 0.5238 - val_mse: 0.4320\n",
      "Epoch 73/100\n",
      "5090/5090 [==============================] - 1s 108us/sample - loss: 4.4625 - mae: 1.4584 - mse: 4.4625 - val_loss: 1.9350 - val_mae: 1.1398 - val_mse: 1.9350\n",
      "Epoch 74/100\n",
      "5090/5090 [==============================] - 1s 110us/sample - loss: 4.2810 - mae: 1.4399 - mse: 4.2810 - val_loss: 0.2879 - val_mae: 0.4034 - val_mse: 0.2879\n",
      "Epoch 75/100\n",
      "5090/5090 [==============================] - 1s 110us/sample - loss: 4.4386 - mae: 1.4624 - mse: 4.4386 - val_loss: 0.2956 - val_mae: 0.4250 - val_mse: 0.2956\n",
      "Epoch 76/100\n",
      "5090/5090 [==============================] - 1s 109us/sample - loss: 4.3115 - mae: 1.4264 - mse: 4.3115 - val_loss: 0.1772 - val_mae: 0.3155 - val_mse: 0.1772\n",
      "Epoch 77/100\n",
      "5090/5090 [==============================] - 1s 111us/sample - loss: 4.4084 - mae: 1.4578 - mse: 4.4084 - val_loss: 2.5345 - val_mae: 1.1670 - val_mse: 2.5345\n",
      "Epoch 78/100\n",
      "5090/5090 [==============================] - 1s 114us/sample - loss: 4.5062 - mae: 1.4547 - mse: 4.5062 - val_loss: 0.1933 - val_mae: 0.3267 - val_mse: 0.1933\n",
      "Epoch 79/100\n",
      "5090/5090 [==============================] - 1s 105us/sample - loss: 4.2834 - mae: 1.4299 - mse: 4.2834 - val_loss: 0.5590 - val_mae: 0.5638 - val_mse: 0.5590\n",
      "Epoch 80/100\n",
      "5090/5090 [==============================] - 1s 107us/sample - loss: 4.3912 - mae: 1.4317 - mse: 4.3912 - val_loss: 0.4937 - val_mae: 0.5534 - val_mse: 0.4937\n",
      "Epoch 81/100\n",
      "5090/5090 [==============================] - 1s 110us/sample - loss: 4.3860 - mae: 1.4345 - mse: 4.3860 - val_loss: 1.2599 - val_mae: 0.8796 - val_mse: 1.2599\n",
      "Epoch 82/100\n",
      "5090/5090 [==============================] - 1s 112us/sample - loss: 4.5802 - mae: 1.4790 - mse: 4.5802 - val_loss: 1.0734 - val_mae: 0.8605 - val_mse: 1.0734\n",
      "Epoch 83/100\n",
      "5090/5090 [==============================] - 1s 121us/sample - loss: 4.4054 - mae: 1.4439 - mse: 4.4054 - val_loss: 1.1485 - val_mae: 0.8337 - val_mse: 1.1485\n",
      "Epoch 84/100\n",
      "5090/5090 [==============================] - 1s 123us/sample - loss: 4.6611 - mae: 1.4820 - mse: 4.6611 - val_loss: 0.6648 - val_mae: 0.6961 - val_mse: 0.6648\n",
      "Epoch 85/100\n",
      "5090/5090 [==============================] - 1s 115us/sample - loss: 4.5495 - mae: 1.4678 - mse: 4.5495 - val_loss: 0.9159 - val_mae: 0.6956 - val_mse: 0.9159\n",
      "Epoch 86/100\n",
      "5090/5090 [==============================] - 1s 108us/sample - loss: 4.4875 - mae: 1.4469 - mse: 4.4875 - val_loss: 0.1707 - val_mae: 0.2943 - val_mse: 0.1707\n",
      "Epoch 87/100\n",
      "5090/5090 [==============================] - 1s 111us/sample - loss: 4.3868 - mae: 1.4439 - mse: 4.3868 - val_loss: 2.6585 - val_mae: 1.2088 - val_mse: 2.6585\n",
      "Epoch 88/100\n",
      "5090/5090 [==============================] - 1s 118us/sample - loss: 4.4615 - mae: 1.4581 - mse: 4.4615 - val_loss: 2.3471 - val_mae: 1.1303 - val_mse: 2.3471\n",
      "Epoch 89/100\n",
      "5090/5090 [==============================] - 1s 117us/sample - loss: 4.4589 - mae: 1.4563 - mse: 4.4589 - val_loss: 0.6842 - val_mae: 0.6328 - val_mse: 0.6842\n",
      "Epoch 90/100\n",
      "5090/5090 [==============================] - 1s 118us/sample - loss: 4.2599 - mae: 1.4203 - mse: 4.2599 - val_loss: 0.8191 - val_mae: 0.6955 - val_mse: 0.8191\n",
      "Epoch 91/100\n",
      "5090/5090 [==============================] - 1s 112us/sample - loss: 4.2192 - mae: 1.4220 - mse: 4.2192 - val_loss: 0.5958 - val_mae: 0.6111 - val_mse: 0.5958\n",
      "Epoch 92/100\n",
      "5090/5090 [==============================] - 1s 113us/sample - loss: 4.3886 - mae: 1.4430 - mse: 4.3886 - val_loss: 0.8842 - val_mae: 0.7195 - val_mse: 0.8842\n",
      "Epoch 93/100\n",
      "5090/5090 [==============================] - 1s 116us/sample - loss: 4.2924 - mae: 1.4186 - mse: 4.2924 - val_loss: 1.7994 - val_mae: 0.8992 - val_mse: 1.7994\n",
      "Epoch 94/100\n",
      "5090/5090 [==============================] - 1s 118us/sample - loss: 4.3322 - mae: 1.4490 - mse: 4.3322 - val_loss: 1.9626 - val_mae: 1.1202 - val_mse: 1.9626\n",
      "Epoch 95/100\n",
      "5090/5090 [==============================] - 1s 113us/sample - loss: 4.3256 - mae: 1.4349 - mse: 4.3256 - val_loss: 0.9944 - val_mae: 0.8753 - val_mse: 0.9944\n",
      "Epoch 96/100\n",
      "5090/5090 [==============================] - 1s 109us/sample - loss: 4.3171 - mae: 1.4281 - mse: 4.3171 - val_loss: 0.3700 - val_mae: 0.4710 - val_mse: 0.3700\n",
      "Epoch 97/100\n",
      "5090/5090 [==============================] - 1s 113us/sample - loss: 4.3100 - mae: 1.4287 - mse: 4.3100 - val_loss: 0.5250 - val_mae: 0.5431 - val_mse: 0.5250\n",
      "Epoch 98/100\n",
      "5090/5090 [==============================] - 1s 110us/sample - loss: 4.3484 - mae: 1.4387 - mse: 4.3484 - val_loss: 0.6793 - val_mae: 0.5821 - val_mse: 0.6793\n",
      "Epoch 99/100\n",
      "5090/5090 [==============================] - 1s 117us/sample - loss: 4.3389 - mae: 1.4388 - mse: 4.3389 - val_loss: 0.7003 - val_mae: 0.6638 - val_mse: 0.7003\n",
      "Epoch 100/100\n",
      "5090/5090 [==============================] - 1s 107us/sample - loss: 4.4786 - mae: 1.4450 - mse: 4.4786 - val_loss: 0.5432 - val_mae: 0.6150 - val_mse: 0.5432\n"
     ]
    }
   ],
   "source": [
    "FCNN_history = FCNN_model.fit(train_data, train_labels,\n",
    "                    epochs=100,\n",
    "                    batch_size = 32,\n",
    "                    #callbacks = [callback],\n",
    "                    validation_split = 0.3 \n",
    "                    )"
   ]
  },
  {
   "cell_type": "code",
   "execution_count": null,
   "metadata": {},
   "outputs": [],
   "source": [
    "%tensorboard --logdir logs/fit"
   ]
  },
  {
   "cell_type": "code",
   "execution_count": 16,
   "metadata": {},
   "outputs": [
    {
     "data": {
      "text/plain": [
       "Text(0.5, 1.0, 'FCNN O-PPAC Loss Curve, Dropout 0.5, 2 Dense 256 Node, RMSprop 0.001, MSE, linear activation')"
      ]
     },
     "execution_count": 16,
     "metadata": {},
     "output_type": "execute_result"
    },
    {
     "data": {
      "image/png": "[encoded data removed]",
      "text/plain": [
       "<Figure size 432x288 with 1 Axes>"
      ]
     },
     "metadata": {
      "needs_background": "light"
     },
     "output_type": "display_data"
    }
   ],
   "source": [
    "plt.plot(FCNN_history.history['loss'], label='loss')\n",
    "plt.plot(FCNN_history.history['val_loss'], label = 'val_loss')\n",
    "plt.xlabel('Epoch')\n",
    "plt.ylabel('Loss')\n",
    "plt.ylim([0, 40])\n",
    "plt.legend(loc='lower right')\n",
    "plt.title(\"FCNN O-PPAC Loss Curve, Dropout 0.5, 2 Dense 256 Node, RMSprop 0.001, MSE, linear activation\")"
   ]
  },
  {
   "cell_type": "code",
   "execution_count": 18,
   "metadata": {},
   "outputs": [
    {
     "name": "stdout",
     "output_type": "stream",
     "text": [
      "1818/1818 - 0s - loss: 0.5412 - mae: 0.6077 - mse: 0.5412\n"
     ]
    }
   ],
   "source": [
    "result = FCNN_model.evaluate(test_data, test_labels, verbose=2)"
   ]
  },
  {
   "cell_type": "code",
   "execution_count": 19,
   "metadata": {},
   "outputs": [],
   "source": [
    "predictions = FCNN_model.predict(test_data)"
   ]
  },
  {
   "cell_type": "code",
   "execution_count": 31,
   "metadata": {},
   "outputs": [
    {
     "data": {
      "text/plain": [
       "array([0.01109481], dtype=float32)"
      ]
     },
     "execution_count": 31,
     "metadata": {},
     "output_type": "execute_result"
    }
   ],
   "source": [
    "predictions[0]"
   ]
  },
  {
   "cell_type": "code",
   "execution_count": 32,
   "metadata": {},
   "outputs": [
    {
     "data": {
      "text/plain": [
       "1818"
      ]
     },
     "execution_count": 32,
     "metadata": {},
     "output_type": "execute_result"
    }
   ],
   "source": [
    "test_labels.shape[0]"
   ]
  },
  {
   "cell_type": "code",
   "execution_count": 33,
   "metadata": {},
   "outputs": [
    {
     "data": {
      "text/plain": [
       "array([  0.,   8., -16., ...,  32.,  -8., -24.])"
      ]
     },
     "execution_count": 33,
     "metadata": {},
     "output_type": "execute_result"
    }
   ],
   "source": [
    "test_labels[:]"
   ]
  },
  {
   "cell_type": "code",
   "execution_count": 34,
   "metadata": {},
   "outputs": [
    {
     "data": {
      "text/plain": [
       "[-16.0]"
      ]
     },
     "execution_count": 34,
     "metadata": {},
     "output_type": "execute_result"
    }
   ],
   "source": [
    "new_labels = []\n",
    "for i in range(test_labels.shape[0]):\n",
    "    new_labels.append([test_labels[i]])\n",
    "np.array(new_labels)\n",
    "new_labels[2]"
   ]
  },
  {
   "cell_type": "code",
   "execution_count": 35,
   "metadata": {},
   "outputs": [
    {
     "data": {
      "text/plain": [
       "Text(0.5, 1.0, 'FCNN O-PPAC Predictions vs True Values')"
      ]
     },
     "execution_count": 35,
     "metadata": {},
     "output_type": "execute_result"
    },
    {
     "data": {
      "image/png": "[encoded data removed]",
      "text/plain": [
       "<Figure size 432x288 with 1 Axes>"
      ]
     },
     "metadata": {
      "needs_background": "light"
     },
     "output_type": "display_data"
    }
   ],
   "source": [
    "a = plt.axes(aspect='equal')\n",
    "plt.scatter(test_labels, predictions)\n",
    "plt.xlabel('True Values')\n",
    "plt.ylabel('Predictions')\n",
    "lims = [-50, 50]\n",
    "plt.xlim(lims)\n",
    "plt.ylim(lims)\n",
    "_ = plt.plot(lims, lims)\n",
    "plt.title(\"FCNN O-PPAC Predictions vs True Values\")"
   ]
  },
  {
   "cell_type": "code",
   "execution_count": null,
   "metadata": {},
   "outputs": [],
   "source": []
  }
 ],
 "metadata": {
  "kernelspec": {
   "display_name": "Python 3",
   "language": "python",
   "name": "python3"
  },
  "language_info": {
   "codemirror_mode": {
    "name": "ipython",
    "version": 3
   },
   "file_extension": ".py",
   "mimetype": "text/x-python",
   "name": "python",
   "nbconvert_exporter": "python",
   "pygments_lexer": "ipython3",
   "version": "3.6.8"
  }
 },
 "nbformat": 4,
 "nbformat_minor": 4
}
